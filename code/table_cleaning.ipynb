{
 "cells": [
  {
   "cell_type": "code",
   "execution_count": 1,
   "id": "5172df73-a2e2-4cc0-8ef4-a3cec7c0963f",
   "metadata": {},
   "outputs": [],
   "source": [
    "import pandas as pd\n",
    "import numpy as np\n",
    "import matplotlib.pyplot as plt\n",
    "import seaborn as sns"
   ]
  },
  {
   "cell_type": "code",
   "execution_count": 22,
   "id": "4156dc8b-8647-4450-a9c9-26c563552cf6",
   "metadata": {},
   "outputs": [],
   "source": [
    "wind_turbines = pd.read_csv('../original_datasets/wind_turbine.csv', engine='python',encoding='latin1')"
   ]
  },
  {
   "cell_type": "code",
   "execution_count": 3,
   "id": "0a44f326-06cd-4675-9455-8127232e0ad6",
   "metadata": {
    "tags": []
   },
   "outputs": [
    {
     "data": {
      "text/plain": [
       "case_id              0\n",
       "faa_ors           5792\n",
       "faa_asn           5122\n",
       "usgs_pr_id       32545\n",
       "eia_id            5793\n",
       "t_state              0\n",
       "t_county             0\n",
       "t_fips               0\n",
       "p_name               0\n",
       "p_year             613\n",
       "p_tnum               0\n",
       "p_cap             4482\n",
       "t_manu            5640\n",
       "t_model           5777\n",
       "t_cap             5480\n",
       "t_hh              6180\n",
       "t_rd              5934\n",
       "t_rsa             5934\n",
       "t_ttlh            6180\n",
       "retrofit             0\n",
       "retrofit_year    64822\n",
       "t_conf_atr           0\n",
       "t_conf_loc           0\n",
       "t_img_date        8316\n",
       "t_img_srce           0\n",
       "xlong                0\n",
       "ylat                 0\n",
       "dtype: int64"
      ]
     },
     "execution_count": 3,
     "metadata": {},
     "output_type": "execute_result"
    }
   ],
   "source": [
    "wind_turbines.isnull().sum()"
   ]
  },
  {
   "cell_type": "code",
   "execution_count": 4,
   "id": "c25c62ea-07ab-4c2c-a2a2-ec0395c1e827",
   "metadata": {},
   "outputs": [
    {
     "data": {
      "text/plain": [
       "['schedule_0',\n",
       " 'schedule_1',\n",
       " 'schedule_2',\n",
       " 'schedule_3',\n",
       " 'schedule_4',\n",
       " 'schedule_5',\n",
       " 'schedule_6',\n",
       " 'schedule_7',\n",
       " 'schedule_8',\n",
       " 'schedule_9']"
      ]
     },
     "execution_count": 4,
     "metadata": {},
     "output_type": "execute_result"
    }
   ],
   "source": [
    "df_list = []\n",
    "table_list = []\n",
    "for i in range(10):\n",
    "    var_name = f'schedule_{i}'\n",
    "    globals()[var_name] = pd.read_excel('../original_datasets/EIA923_Schedules_2_3_4_5_M_12_2020_Final_Revision.xlsx', i)\n",
    "    table_list.append(var_name)\n",
    "    df_list.append(globals()[var_name])\n",
    "table_list"
   ]
  },
  {
   "cell_type": "code",
   "execution_count": 5,
   "id": "6b43899e-e1bc-4af6-bf0b-009377ca6f00",
   "metadata": {},
   "outputs": [],
   "source": [
    "def count_nulls():\n",
    "    return [f'{f\"schedule_{i}\"} has a total of {sum(globals()[f\"schedule_{i}\"].isnull().sum())} nulls' for i in range(7)]"
   ]
  },
  {
   "cell_type": "code",
   "execution_count": 6,
   "id": "9e91ec50-7be1-4cae-a133-09314e997f57",
   "metadata": {},
   "outputs": [
    {
     "data": {
      "text/plain": [
       "['schedule_0 has a total of 23496 nulls',\n",
       " 'schedule_1 has a total of 750 nulls',\n",
       " 'schedule_2 has a total of 813 nulls',\n",
       " 'schedule_3 has a total of 143 nulls',\n",
       " 'schedule_4 has a total of 573 nulls',\n",
       " 'schedule_5 has a total of 342 nulls',\n",
       " 'schedule_6 has a total of 130 nulls']"
      ]
     },
     "execution_count": 6,
     "metadata": {},
     "output_type": "execute_result"
    }
   ],
   "source": [
    "count_nulls()"
   ]
  },
  {
   "cell_type": "code",
   "execution_count": 7,
   "id": "3a57e5ce-71b5-4c28-b617-69c316a7bbfe",
   "metadata": {
    "tags": []
   },
   "outputs": [],
   "source": [
    "def table_cleaning():\n",
    "    for i in range(10):\n",
    "        var_name = f\"schedule_{i}\"\n",
    "        globals()[var_name] = globals()[var_name].tail(-3)"
   ]
  },
  {
   "cell_type": "code",
   "execution_count": 8,
   "id": "dde931f5-eb5c-4e22-8966-d298904a1477",
   "metadata": {},
   "outputs": [],
   "source": [
    "schedule_1 = schedule_1.tail(int(str(schedule_1[schedule_1['U.S. Department of Energy, The Energy Information Administration (EIA)'] == 'Plant Id'].index).split(']')[0].split('[')[-1])*-1)\n",
    "schedule_1.columns = schedule_1.iloc[0]\n",
    "schedule_1 = schedule_1[1:].reset_index(drop=True)\n",
    "schedule_1.columns = schedule_1.columns.str.replace('\\n', ' ').str.lower().str.replace(' ', '_')"
   ]
  },
  {
   "cell_type": "code",
   "execution_count": 9,
   "id": "3566f91f-ca84-4e98-b32b-c9b01f912fcf",
   "metadata": {},
   "outputs": [
    {
     "data": {
      "text/plain": [
       "5\n",
       "plant_id                              0\n",
       "combined_heat_and_power_plant         0\n",
       "nuclear_unit_id                       0\n",
       "plant_name                            0\n",
       "operator_name                         0\n",
       "                                     ..\n",
       "electric_fuel_consumption_quantity    0\n",
       "total_fuel_consumption_mmbtu          0\n",
       "elec_fuel_consumption_mmbtu           0\n",
       "net_generation_(megawatthours)        0\n",
       "year                                  0\n",
       "Length: 97, dtype: int64"
      ]
     },
     "execution_count": 9,
     "metadata": {},
     "output_type": "execute_result"
    }
   ],
   "source": [
    "schedule_1.columns = schedule_1.columns.str.replace('\\n', ' ').str.lower().str.replace(' ', '_')\n",
    "schedule_1.isnull().sum()"
   ]
  },
  {
   "cell_type": "code",
   "execution_count": 10,
   "id": "213f902e-4ad0-4c50-9264-2cc8a643467e",
   "metadata": {},
   "outputs": [
    {
     "data": {
      "text/plain": [
       "Index(['plant_id', 'combined_heat_and_power_plant', 'nuclear_unit_id',\n",
       "       'plant_name', 'operator_name', 'operator_id', 'plant_state',\n",
       "       'census_region', 'nerc_region', 'reserved', 'naics_code',\n",
       "       'eia_sector_number', 'sector_name', 'reported_prime_mover',\n",
       "       'reported_fuel_type_code', 'aer_fuel_type_code', 'reserved',\n",
       "       'respondent_frequency', 'physical_unit_label', 'quantity_january',\n",
       "       'quantity_february', 'quantity_march', 'quantity_april', 'quantity_may',\n",
       "       'quantity_june', 'quantity_july', 'quantity_august',\n",
       "       'quantity_september', 'quantity_october', 'quantity_november',\n",
       "       'quantity_december', 'elec_quantity_january', 'elec_quantity_february',\n",
       "       'elec_quantity_march', 'elec_quantity_april', 'elec_quantity_may',\n",
       "       'elec_quantity_june', 'elec_quantity_july', 'elec_quantity_august',\n",
       "       'elec_quantity_september', 'elec_quantity_october',\n",
       "       'elec_quantity_november', 'elec_quantity_december',\n",
       "       'mmbtuper_unit_january', 'mmbtuper_unit_february',\n",
       "       'mmbtuper_unit_march', 'mmbtuper_unit_april', 'mmbtuper_unit_may',\n",
       "       'mmbtuper_unit_june', 'mmbtuper_unit_july', 'mmbtuper_unit_august',\n",
       "       'mmbtuper_unit_september', 'mmbtuper_unit_october',\n",
       "       'mmbtuper_unit_november', 'mmbtuper_unit_december', 'tot_mmbtu_january',\n",
       "       'tot_mmbtu_february', 'tot_mmbtu_march', 'tot_mmbtu_april',\n",
       "       'tot_mmbtu_may', 'tot_mmbtu_june', 'tot_mmbtu_july', 'tot_mmbtu_august',\n",
       "       'tot_mmbtu_september', 'tot_mmbtu_october', 'tot_mmbtu_november',\n",
       "       'tot_mmbtu_december', 'elec_mmbtu_january', 'elec_mmbtu_february',\n",
       "       'elec_mmbtu_march', 'elec_mmbtu_april', 'elec_mmbtu_may',\n",
       "       'elec_mmbtu_june', 'elec_mmbtu_july', 'elec_mmbtu_august',\n",
       "       'elec_mmbtu_september', 'elec_mmbtu_october', 'elec_mmbtu_november',\n",
       "       'elec_mmbtu_december', 'netgen_january', 'netgen_february',\n",
       "       'netgen_march', 'netgen_april', 'netgen_may', 'netgen_june',\n",
       "       'netgen_july', 'netgen_august', 'netgen_september', 'netgen_october',\n",
       "       'netgen_november', 'netgen_december', 'total_fuel_consumption_quantity',\n",
       "       'electric_fuel_consumption_quantity', 'total_fuel_consumption_mmbtu',\n",
       "       'elec_fuel_consumption_mmbtu', 'net_generation_(megawatthours)',\n",
       "       'year'],\n",
       "      dtype='object', name=5)"
      ]
     },
     "execution_count": 10,
     "metadata": {},
     "output_type": "execute_result"
    }
   ],
   "source": [
    "schedule_1.columns"
   ]
  },
  {
   "cell_type": "code",
   "execution_count": 51,
   "id": "fd2991e3-af52-42d3-8b75-497e451ffe12",
   "metadata": {
    "tags": []
   },
   "outputs": [
    {
     "data": {
      "text/html": [
       "<div>\n",
       "<style scoped>\n",
       "    .dataframe tbody tr th:only-of-type {\n",
       "        vertical-align: middle;\n",
       "    }\n",
       "\n",
       "    .dataframe tbody tr th {\n",
       "        vertical-align: top;\n",
       "    }\n",
       "\n",
       "    .dataframe thead th {\n",
       "        text-align: right;\n",
       "    }\n",
       "</style>\n",
       "<table border=\"1\" class=\"dataframe\">\n",
       "  <thead>\n",
       "    <tr style=\"text-align: right;\">\n",
       "      <th>4</th>\n",
       "      <th>plant_id</th>\n",
       "      <th>plant</th>\n",
       "      <th>op</th>\n",
       "      <th>op_id</th>\n",
       "      <th>plant_state</th>\n",
       "      <th>region</th>\n",
       "      <th>rpm</th>\n",
       "      <th>fuel_usage</th>\n",
       "      <th>net_gen</th>\n",
       "    </tr>\n",
       "  </thead>\n",
       "  <tbody>\n",
       "    <tr>\n",
       "      <th>0</th>\n",
       "      <td>1</td>\n",
       "      <td>Sand Point</td>\n",
       "      <td>TDX Sand Point Generating, LLC</td>\n",
       "      <td>63560</td>\n",
       "      <td>AK</td>\n",
       "      <td>PACN</td>\n",
       "      <td>WT</td>\n",
       "      <td>3045</td>\n",
       "      <td>347.000</td>\n",
       "    </tr>\n",
       "    <tr>\n",
       "      <th>1</th>\n",
       "      <td>90</td>\n",
       "      <td>Snake River</td>\n",
       "      <td>Nome Joint Utility Systems</td>\n",
       "      <td>13642</td>\n",
       "      <td>AK</td>\n",
       "      <td>PACN</td>\n",
       "      <td>WT</td>\n",
       "      <td>20906</td>\n",
       "      <td>2383.000</td>\n",
       "    </tr>\n",
       "    <tr>\n",
       "      <th>2</th>\n",
       "      <td>508</td>\n",
       "      <td>Lamar Plant</td>\n",
       "      <td>City of Lamar - (CO)</td>\n",
       "      <td>10633</td>\n",
       "      <td>CO</td>\n",
       "      <td>MTN</td>\n",
       "      <td>WT</td>\n",
       "      <td>116085</td>\n",
       "      <td>13232.000</td>\n",
       "    </tr>\n",
       "    <tr>\n",
       "      <th>3</th>\n",
       "      <td>692</td>\n",
       "      <td>Medicine Bow</td>\n",
       "      <td>SRIV Partnership LLC</td>\n",
       "      <td>62042</td>\n",
       "      <td>WY</td>\n",
       "      <td>MTN</td>\n",
       "      <td>WT</td>\n",
       "      <td>141429</td>\n",
       "      <td>16121.000</td>\n",
       "    </tr>\n",
       "    <tr>\n",
       "      <th>4</th>\n",
       "      <td>944</td>\n",
       "      <td>Geneseo</td>\n",
       "      <td>City of Geneseo - (IL)</td>\n",
       "      <td>7095</td>\n",
       "      <td>IL</td>\n",
       "      <td>ENC</td>\n",
       "      <td>WT</td>\n",
       "      <td>51368</td>\n",
       "      <td>5855.000</td>\n",
       "    </tr>\n",
       "    <tr>\n",
       "      <th>...</th>\n",
       "      <td>...</td>\n",
       "      <td>...</td>\n",
       "      <td>...</td>\n",
       "      <td>...</td>\n",
       "      <td>...</td>\n",
       "      <td>...</td>\n",
       "      <td>...</td>\n",
       "      <td>...</td>\n",
       "      <td>...</td>\n",
       "    </tr>\n",
       "    <tr>\n",
       "      <th>1238</th>\n",
       "      <td>99999</td>\n",
       "      <td>State-Fuel Level Increment</td>\n",
       "      <td>State-Fuel Level Increment</td>\n",
       "      <td>99999</td>\n",
       "      <td>NV</td>\n",
       "      <td>MTN</td>\n",
       "      <td>WT</td>\n",
       "      <td>279086</td>\n",
       "      <td>31811.979</td>\n",
       "    </tr>\n",
       "    <tr>\n",
       "      <th>1239</th>\n",
       "      <td>99999</td>\n",
       "      <td>State-Fuel Level Increment</td>\n",
       "      <td>State-Fuel Level Increment</td>\n",
       "      <td>99999</td>\n",
       "      <td>MD</td>\n",
       "      <td>SAT</td>\n",
       "      <td>WT</td>\n",
       "      <td>76102</td>\n",
       "      <td>8674.526</td>\n",
       "    </tr>\n",
       "    <tr>\n",
       "      <th>1240</th>\n",
       "      <td>99999</td>\n",
       "      <td>State-Fuel Level Increment</td>\n",
       "      <td>State-Fuel Level Increment</td>\n",
       "      <td>99999</td>\n",
       "      <td>NH</td>\n",
       "      <td>NEW</td>\n",
       "      <td>WT</td>\n",
       "      <td>84267</td>\n",
       "      <td>9605.242</td>\n",
       "    </tr>\n",
       "    <tr>\n",
       "      <th>1241</th>\n",
       "      <td>99999</td>\n",
       "      <td>State-Fuel Level Increment</td>\n",
       "      <td>State-Fuel Level Increment</td>\n",
       "      <td>99999</td>\n",
       "      <td>MA</td>\n",
       "      <td>NEW</td>\n",
       "      <td>WT</td>\n",
       "      <td>6973</td>\n",
       "      <td>794.787</td>\n",
       "    </tr>\n",
       "    <tr>\n",
       "      <th>1242</th>\n",
       "      <td>99999</td>\n",
       "      <td>State-Fuel Level Increment</td>\n",
       "      <td>State-Fuel Level Increment</td>\n",
       "      <td>99999</td>\n",
       "      <td>ID</td>\n",
       "      <td>MTN</td>\n",
       "      <td>WT</td>\n",
       "      <td>39234</td>\n",
       "      <td>4472.169</td>\n",
       "    </tr>\n",
       "  </tbody>\n",
       "</table>\n",
       "<p>1243 rows × 9 columns</p>\n",
       "</div>"
      ],
      "text/plain": [
       "4    plant_id                       plant                              op  \\\n",
       "0           1                  Sand Point  TDX Sand Point Generating, LLC   \n",
       "1          90                 Snake River      Nome Joint Utility Systems   \n",
       "2         508                 Lamar Plant            City of Lamar - (CO)   \n",
       "3         692                Medicine Bow            SRIV Partnership LLC   \n",
       "4         944                     Geneseo          City of Geneseo - (IL)   \n",
       "...       ...                         ...                             ...   \n",
       "1238    99999  State-Fuel Level Increment      State-Fuel Level Increment   \n",
       "1239    99999  State-Fuel Level Increment      State-Fuel Level Increment   \n",
       "1240    99999  State-Fuel Level Increment      State-Fuel Level Increment   \n",
       "1241    99999  State-Fuel Level Increment      State-Fuel Level Increment   \n",
       "1242    99999  State-Fuel Level Increment      State-Fuel Level Increment   \n",
       "\n",
       "4     op_id plant_state region rpm fuel_usage    net_gen  \n",
       "0     63560          AK   PACN  WT       3045    347.000  \n",
       "1     13642          AK   PACN  WT      20906   2383.000  \n",
       "2     10633          CO    MTN  WT     116085  13232.000  \n",
       "3     62042          WY    MTN  WT     141429  16121.000  \n",
       "4      7095          IL    ENC  WT      51368   5855.000  \n",
       "...     ...         ...    ...  ..        ...        ...  \n",
       "1238  99999          NV    MTN  WT     279086  31811.979  \n",
       "1239  99999          MD    SAT  WT      76102   8674.526  \n",
       "1240  99999          NH    NEW  WT      84267   9605.242  \n",
       "1241  99999          MA    NEW  WT       6973    794.787  \n",
       "1242  99999          ID    MTN  WT      39234   4472.169  \n",
       "\n",
       "[1243 rows x 9 columns]"
      ]
     },
     "execution_count": 51,
     "metadata": {},
     "output_type": "execute_result"
    }
   ],
   "source": [
    "wind_data = pd.read_excel('../original_datasets/EIA923_Schedules_2_3_4_5_M_12_2020_Final_Revision.xlsx', 0)\n",
    "\n",
    "wind_data = wind_data.tail(int(str(wind_data[wind_data['U.S. Department of Energy, The Energy Information Administration (EIA)'] == 'Plant Id'].index).split(']')[0].split('[')[-1])*-1)\n",
    "wind_data.columns = wind_data.iloc[0]\n",
    "wind_data = wind_data[1:].reset_index(drop=True)\n",
    "wind_data.columns = wind_data.columns.str.replace('\\n', ' ').str.lower().str.replace(' ', '_')\n",
    "\n",
    "wind_data = wind_data[['plant_id', 'plant_name', 'operator_name', 'operator_id', 'plant_state', 'census_region', 'reported_prime_mover', 'reported_fuel_type_code', \n",
    "                       'total_fuel_consumption_mmbtu', 'net_generation_(megawatthours)']]\n",
    "\n",
    "wind_data.rename(columns={'operator_name':'op', 'operator_id':'op_id', 'plant_name':'plant', 'census_region':'region', 'reported_prime_mover':'rpm', \n",
    "                               'reported_fuel_type_code':'fuel_type', 'net_generation_(megawatthours)':'net_gen', 'total_fuel_consumption_mmbtu':'fuel_usage'}, inplace=True)\n",
    "\n",
    "wind_data.loc[(wind_data['net_gen']!=0)]\n",
    "wind_data = wind_data[wind_data['fuel_type'] == 'WND']\n",
    "wind_data.drop(columns=('fuel_type'), inplace=True)\n",
    "\n",
    "for col in wind_data.iloc[:, 8:]:\n",
    "    wind_data[col] = pd.to_numeric(wind_data[col])\n",
    "    wind_data[col] = wind_data[col].fillna(0)\n",
    "\n",
    "wind_data.reset_index(inplace=True, drop=True)\n",
    "wind_data.to_csv('../cleaned_datasets/wind_data.csv')\n",
    "wind_data"
   ]
  },
  {
   "cell_type": "code",
   "execution_count": null,
   "id": "e70831a9-2668-4ea8-a85b-4551d44635f6",
   "metadata": {},
   "outputs": [],
   "source": [
    "generator_data = pd.read_excel('../original_datasets/EIA923_Schedules_2_3_4_5_M_12_2020_Final_Revision.xlsx', 0)"
   ]
  },
  {
   "cell_type": "code",
   "execution_count": null,
   "id": "d73e277c-cbd6-4d38-903f-c1431e76b6a8",
   "metadata": {},
   "outputs": [],
   "source": [
    "generator_data = generator_data.tail(int(str(generator_data[generator_data['U.S. Department of Energy, The Energy Information Administration (EIA)'] == 'Plant Id'].index).split(']')[0].split('[')[-1])*-1)\n",
    "generator_data.columns = generator_data.iloc[0]\n",
    "generator_data = generator_data[1:].reset_index(drop=True)\n",
    "generator_data.columns = generator_data.columns.str.replace('\\n', ' ').str.lower().str.replace(' ', '_')"
   ]
  },
  {
   "cell_type": "code",
   "execution_count": null,
   "id": "81c17b98-4b50-4470-8787-5356470bcca0",
   "metadata": {},
   "outputs": [],
   "source": [
    "generator_data = generator_data[['plant_id', 'plant_name', 'operator_name', 'operator_id', 'plant_state', 'census_region', 'reported_prime_mover', 'reported_fuel_type_code', 'quantity_january',\n",
    "       'quantity_february', 'quantity_march', 'quantity_april', 'quantity_may', 'quantity_june', 'quantity_july', 'quantity_august', 'quantity_september', 'quantity_october', \n",
    "                                 'quantity_november', 'quantity_december', 'netgen_january', 'netgen_february', 'netgen_march', 'netgen_april', 'netgen_may', 'netgen_june', 'netgen_july', 'netgen_august', \n",
    "                'netgen_september', 'netgen_october', 'netgen_november', 'netgen_december', 'net_generation_(megawatthours)']]\n",
    "generator_data.rename(columns={'operator_name':'op', 'operator_id':'op_id', 'plant_name':'plant', 'census_region':'region', 'reported_prime_mover':'rpm', \n",
    "                               'reported_fuel_type_code':'fuel_type', 'net_generation_(megawatthours)':'net_gen'}, inplace=True)"
   ]
  },
  {
   "cell_type": "code",
   "execution_count": null,
   "id": "d863af44-769f-4941-b2d9-575a16e3770d",
   "metadata": {
    "tags": []
   },
   "outputs": [],
   "source": [
    "generator_data = generator_data[generator_data['fuel_type'] == 'WND']\n",
    "generator_data.drop(columns=('fuel_type'), inplace=True)\n",
    "generator_data"
   ]
  },
  {
   "cell_type": "code",
   "execution_count": null,
   "id": "dea72c9e-bb3d-40e2-87f7-f89de3e74b6b",
   "metadata": {
    "tags": []
   },
   "outputs": [],
   "source": [
    "quan = generator_data.iloc[:, [7, 8, 9, 10, 11, 12, 13, 14, 15, 16, 17, 18]]\n",
    "for col in quan:\n",
    "    quan.rename(columns={col:f'quan_{str(quan.columns.get_loc(col) + 1)}'}, inplace=True)\n",
    "quan"
   ]
  },
  {
   "cell_type": "code",
   "execution_count": null,
   "id": "537c1ffb-b428-48cb-97bb-4082abc3cd4f",
   "metadata": {
    "tags": []
   },
   "outputs": [],
   "source": [
    "net_gen = generator_data.iloc[:, [19, 20, 21, 22, 23, 24, 25, 26, 27, 28, 29, 30]]\n",
    "for col in net_gen:\n",
    "    net_gen.rename(columns={col:f'netgen_{str(net_gen.columns.get_loc(col) + 1)}'}, inplace=True)\n",
    "net_gen"
   ]
  },
  {
   "cell_type": "code",
   "execution_count": null,
   "id": "4c240631-0617-4f3d-8cdf-fa74fcf3654c",
   "metadata": {},
   "outputs": [],
   "source": [
    "generator_data = pd.merge(left = generator_data.iloc[:, :7], right = generator_data.loc[:, ['plant_id', 'net_gen', 'year']], how='left', on='plant_id')\n",
    "monthly_totals = quan.join(net_gen)\n",
    "generator_data = generator_data.join(monthly_totals)\n",
    "generator_data.columns"
   ]
  },
  {
   "cell_type": "code",
   "execution_count": null,
   "id": "3c24866e-2fee-49bc-88de-18036833cae0",
   "metadata": {
    "tags": []
   },
   "outputs": [],
   "source": [
    "generator_data"
   ]
  },
  {
   "cell_type": "code",
   "execution_count": null,
   "id": "7feba853-0912-4212-83ec-c85adf28e17f",
   "metadata": {
    "tags": []
   },
   "outputs": [],
   "source": [
    "generator_data['net_gen'] = pd.to_numeric(generator_data['net_gen'])\n",
    "for col in generator_data.iloc[:, 7:]:\n",
    "    generator_data[col] = pd.to_numeric(generator_data[col])\n",
    "    generator_data[col] = generator_data[col].fillna(0)\n",
    "generator_data"
   ]
  },
  {
   "cell_type": "code",
   "execution_count": 14,
   "id": "be49494c-04aa-4a9c-9471-e84c3739e605",
   "metadata": {},
   "outputs": [],
   "source": [
    "manu_data = wind_turbines[['t_manu','t_model','t_cap','t_hh','t_rd','t_rsa','t_ttlh','t_conf_atr']]"
   ]
  },
  {
   "cell_type": "code",
   "execution_count": 15,
   "id": "83df4849-f69c-4e57-ad98-3bb59638cb0a",
   "metadata": {
    "tags": []
   },
   "outputs": [
    {
     "name": "stderr",
     "output_type": "stream",
     "text": [
      "C:\\Users\\evana\\AppData\\Local\\Temp\\ipykernel_952\\2803359016.py:1: SettingWithCopyWarning: \n",
      "A value is trying to be set on a copy of a slice from a DataFrame\n",
      "\n",
      "See the caveats in the documentation: https://pandas.pydata.org/pandas-docs/stable/user_guide/indexing.html#returning-a-view-versus-a-copy\n",
      "  manu_data.dropna(inplace=True)\n"
     ]
    }
   ],
   "source": [
    "manu_data.dropna(inplace=True)"
   ]
  },
  {
   "cell_type": "code",
   "execution_count": 23,
   "id": "74e38c79-d39a-43e3-8124-d308c311d4f8",
   "metadata": {},
   "outputs": [],
   "source": [
    "wind_turbines = wind_turbines.drop(['faa_ors','faa_asn','usgs_pr_id','eia_id','t_conf_loc','t_img_date','t_img_srce','retrofit_year',\n",
    "                                   't_manu','t_model','t_cap','t_hh','t_rd','t_rsa','t_ttlh','t_conf_atr'], axis = 1)"
   ]
  },
  {
   "cell_type": "code",
   "execution_count": 24,
   "id": "ca9fe316-c547-4282-b88b-d307111f5f22",
   "metadata": {},
   "outputs": [
    {
     "data": {
      "text/html": [
       "<div>\n",
       "<style scoped>\n",
       "    .dataframe tbody tr th:only-of-type {\n",
       "        vertical-align: middle;\n",
       "    }\n",
       "\n",
       "    .dataframe tbody tr th {\n",
       "        vertical-align: top;\n",
       "    }\n",
       "\n",
       "    .dataframe thead th {\n",
       "        text-align: right;\n",
       "    }\n",
       "</style>\n",
       "<table border=\"1\" class=\"dataframe\">\n",
       "  <thead>\n",
       "    <tr style=\"text-align: right;\">\n",
       "      <th></th>\n",
       "      <th>case_id</th>\n",
       "      <th>t_state</th>\n",
       "      <th>t_county</th>\n",
       "      <th>t_fips</th>\n",
       "      <th>p_name</th>\n",
       "      <th>p_year</th>\n",
       "      <th>p_tnum</th>\n",
       "      <th>p_cap</th>\n",
       "      <th>retrofit</th>\n",
       "      <th>xlong</th>\n",
       "      <th>ylat</th>\n",
       "    </tr>\n",
       "  </thead>\n",
       "  <tbody>\n",
       "    <tr>\n",
       "      <th>0</th>\n",
       "      <td>3072661</td>\n",
       "      <td>CA</td>\n",
       "      <td>Kern County</td>\n",
       "      <td>6029</td>\n",
       "      <td>251 Wind</td>\n",
       "      <td>1987.0</td>\n",
       "      <td>194</td>\n",
       "      <td>18.43</td>\n",
       "      <td>0</td>\n",
       "      <td>-118.363762</td>\n",
       "      <td>35.077908</td>\n",
       "    </tr>\n",
       "    <tr>\n",
       "      <th>1</th>\n",
       "      <td>3072695</td>\n",
       "      <td>CA</td>\n",
       "      <td>Kern County</td>\n",
       "      <td>6029</td>\n",
       "      <td>251 Wind</td>\n",
       "      <td>1987.0</td>\n",
       "      <td>194</td>\n",
       "      <td>18.43</td>\n",
       "      <td>0</td>\n",
       "      <td>-118.364410</td>\n",
       "      <td>35.077435</td>\n",
       "    </tr>\n",
       "    <tr>\n",
       "      <th>2</th>\n",
       "      <td>3072704</td>\n",
       "      <td>CA</td>\n",
       "      <td>Kern County</td>\n",
       "      <td>6029</td>\n",
       "      <td>251 Wind</td>\n",
       "      <td>1987.0</td>\n",
       "      <td>194</td>\n",
       "      <td>18.43</td>\n",
       "      <td>0</td>\n",
       "      <td>-118.364197</td>\n",
       "      <td>35.077644</td>\n",
       "    </tr>\n",
       "    <tr>\n",
       "      <th>3</th>\n",
       "      <td>3063272</td>\n",
       "      <td>IA</td>\n",
       "      <td>Story County</td>\n",
       "      <td>19169</td>\n",
       "      <td>30 MW Iowa DG Portfolio</td>\n",
       "      <td>2017.0</td>\n",
       "      <td>10</td>\n",
       "      <td>30.00</td>\n",
       "      <td>0</td>\n",
       "      <td>-93.430367</td>\n",
       "      <td>42.028233</td>\n",
       "    </tr>\n",
       "    <tr>\n",
       "      <th>4</th>\n",
       "      <td>3053390</td>\n",
       "      <td>IA</td>\n",
       "      <td>Boone County</td>\n",
       "      <td>19015</td>\n",
       "      <td>30 MW Iowa DG Portfolio</td>\n",
       "      <td>2017.0</td>\n",
       "      <td>10</td>\n",
       "      <td>30.00</td>\n",
       "      <td>0</td>\n",
       "      <td>-93.700424</td>\n",
       "      <td>41.977608</td>\n",
       "    </tr>\n",
       "  </tbody>\n",
       "</table>\n",
       "</div>"
      ],
      "text/plain": [
       "   case_id t_state      t_county  t_fips                   p_name  p_year  \\\n",
       "0  3072661      CA   Kern County    6029                 251 Wind  1987.0   \n",
       "1  3072695      CA   Kern County    6029                 251 Wind  1987.0   \n",
       "2  3072704      CA   Kern County    6029                 251 Wind  1987.0   \n",
       "3  3063272      IA  Story County   19169  30 MW Iowa DG Portfolio  2017.0   \n",
       "4  3053390      IA  Boone County   19015  30 MW Iowa DG Portfolio  2017.0   \n",
       "\n",
       "   p_tnum  p_cap  retrofit       xlong       ylat  \n",
       "0     194  18.43         0 -118.363762  35.077908  \n",
       "1     194  18.43         0 -118.364410  35.077435  \n",
       "2     194  18.43         0 -118.364197  35.077644  \n",
       "3      10  30.00         0  -93.430367  42.028233  \n",
       "4      10  30.00         0  -93.700424  41.977608  "
      ]
     },
     "execution_count": 24,
     "metadata": {},
     "output_type": "execute_result"
    }
   ],
   "source": [
    "wind_turbines.head()"
   ]
  },
  {
   "cell_type": "code",
   "execution_count": 39,
   "id": "b1e5d946-d620-4a2f-ae05-73a3ecb26cca",
   "metadata": {},
   "outputs": [],
   "source": [
    "def fix_ints(row):\n",
    "    if len(row) < 5:\n",
    "        outcome = '0' + str([t_fips])\n",
    "    else:\n",
    "        outcome = str(row[t_fips])\n",
    "    return outcome"
   ]
  },
  {
   "cell_type": "code",
   "execution_count": 40,
   "id": "464e1de6-9b79-4b33-80f3-c34782dd84c0",
   "metadata": {
    "collapsed": true,
    "jupyter": {
     "outputs_hidden": true
    },
    "tags": []
   },
   "outputs": [
    {
     "ename": "NameError",
     "evalue": "name 't_fips' is not defined",
     "output_type": "error",
     "traceback": [
      "\u001b[1;31m---------------------------------------------------------------------------\u001b[0m",
      "\u001b[1;31mNameError\u001b[0m                                 Traceback (most recent call last)",
      "\u001b[1;32m~\\AppData\\Local\\Temp\\ipykernel_952\\878355218.py\u001b[0m in \u001b[0;36m<module>\u001b[1;34m\u001b[0m\n\u001b[1;32m----> 1\u001b[1;33m \u001b[0mwind_turbines\u001b[0m\u001b[1;33m[\u001b[0m\u001b[1;34m't_fips'\u001b[0m\u001b[1;33m]\u001b[0m \u001b[1;33m=\u001b[0m \u001b[0mwind_turbines\u001b[0m\u001b[1;33m[\u001b[0m\u001b[1;34m't_fips'\u001b[0m\u001b[1;33m]\u001b[0m\u001b[1;33m.\u001b[0m\u001b[0mapply\u001b[0m\u001b[1;33m(\u001b[0m\u001b[0mfix_ints\u001b[0m\u001b[1;33m)\u001b[0m\u001b[1;33m\u001b[0m\u001b[1;33m\u001b[0m\u001b[0m\n\u001b[0m\u001b[0;32m      2\u001b[0m \u001b[0mwind_turbines\u001b[0m\u001b[1;33m\u001b[0m\u001b[1;33m\u001b[0m\u001b[0m\n",
      "\u001b[1;32m~\\anaconda3\\lib\\site-packages\\pandas\\core\\series.py\u001b[0m in \u001b[0;36mapply\u001b[1;34m(self, func, convert_dtype, args, **kwargs)\u001b[0m\n\u001b[0;32m   4431\u001b[0m         \u001b[0mdtype\u001b[0m\u001b[1;33m:\u001b[0m \u001b[0mfloat64\u001b[0m\u001b[1;33m\u001b[0m\u001b[1;33m\u001b[0m\u001b[0m\n\u001b[0;32m   4432\u001b[0m         \"\"\"\n\u001b[1;32m-> 4433\u001b[1;33m         \u001b[1;32mreturn\u001b[0m \u001b[0mSeriesApply\u001b[0m\u001b[1;33m(\u001b[0m\u001b[0mself\u001b[0m\u001b[1;33m,\u001b[0m \u001b[0mfunc\u001b[0m\u001b[1;33m,\u001b[0m \u001b[0mconvert_dtype\u001b[0m\u001b[1;33m,\u001b[0m \u001b[0margs\u001b[0m\u001b[1;33m,\u001b[0m \u001b[0mkwargs\u001b[0m\u001b[1;33m)\u001b[0m\u001b[1;33m.\u001b[0m\u001b[0mapply\u001b[0m\u001b[1;33m(\u001b[0m\u001b[1;33m)\u001b[0m\u001b[1;33m\u001b[0m\u001b[1;33m\u001b[0m\u001b[0m\n\u001b[0m\u001b[0;32m   4434\u001b[0m \u001b[1;33m\u001b[0m\u001b[0m\n\u001b[0;32m   4435\u001b[0m     def _reduce(\n",
      "\u001b[1;32m~\\anaconda3\\lib\\site-packages\\pandas\\core\\apply.py\u001b[0m in \u001b[0;36mapply\u001b[1;34m(self)\u001b[0m\n\u001b[0;32m   1086\u001b[0m             \u001b[1;32mreturn\u001b[0m \u001b[0mself\u001b[0m\u001b[1;33m.\u001b[0m\u001b[0mapply_str\u001b[0m\u001b[1;33m(\u001b[0m\u001b[1;33m)\u001b[0m\u001b[1;33m\u001b[0m\u001b[1;33m\u001b[0m\u001b[0m\n\u001b[0;32m   1087\u001b[0m \u001b[1;33m\u001b[0m\u001b[0m\n\u001b[1;32m-> 1088\u001b[1;33m         \u001b[1;32mreturn\u001b[0m \u001b[0mself\u001b[0m\u001b[1;33m.\u001b[0m\u001b[0mapply_standard\u001b[0m\u001b[1;33m(\u001b[0m\u001b[1;33m)\u001b[0m\u001b[1;33m\u001b[0m\u001b[1;33m\u001b[0m\u001b[0m\n\u001b[0m\u001b[0;32m   1089\u001b[0m \u001b[1;33m\u001b[0m\u001b[0m\n\u001b[0;32m   1090\u001b[0m     \u001b[1;32mdef\u001b[0m \u001b[0magg\u001b[0m\u001b[1;33m(\u001b[0m\u001b[0mself\u001b[0m\u001b[1;33m)\u001b[0m\u001b[1;33m:\u001b[0m\u001b[1;33m\u001b[0m\u001b[1;33m\u001b[0m\u001b[0m\n",
      "\u001b[1;32m~\\anaconda3\\lib\\site-packages\\pandas\\core\\apply.py\u001b[0m in \u001b[0;36mapply_standard\u001b[1;34m(self)\u001b[0m\n\u001b[0;32m   1141\u001b[0m                 \u001b[1;31m# List[Union[Callable[..., Any], str]]]]]\"; expected\u001b[0m\u001b[1;33m\u001b[0m\u001b[1;33m\u001b[0m\u001b[0m\n\u001b[0;32m   1142\u001b[0m                 \u001b[1;31m# \"Callable[[Any], Any]\"\u001b[0m\u001b[1;33m\u001b[0m\u001b[1;33m\u001b[0m\u001b[0m\n\u001b[1;32m-> 1143\u001b[1;33m                 mapped = lib.map_infer(\n\u001b[0m\u001b[0;32m   1144\u001b[0m                     \u001b[0mvalues\u001b[0m\u001b[1;33m,\u001b[0m\u001b[1;33m\u001b[0m\u001b[1;33m\u001b[0m\u001b[0m\n\u001b[0;32m   1145\u001b[0m                     \u001b[0mf\u001b[0m\u001b[1;33m,\u001b[0m  \u001b[1;31m# type: ignore[arg-type]\u001b[0m\u001b[1;33m\u001b[0m\u001b[1;33m\u001b[0m\u001b[0m\n",
      "\u001b[1;32m~\\anaconda3\\lib\\site-packages\\pandas\\_libs\\lib.pyx\u001b[0m in \u001b[0;36mpandas._libs.lib.map_infer\u001b[1;34m()\u001b[0m\n",
      "\u001b[1;32m~\\AppData\\Local\\Temp\\ipykernel_952\\1990929494.py\u001b[0m in \u001b[0;36mfix_ints\u001b[1;34m(row)\u001b[0m\n\u001b[0;32m      3\u001b[0m         \u001b[0moutcome\u001b[0m \u001b[1;33m=\u001b[0m \u001b[1;34m'0'\u001b[0m \u001b[1;33m+\u001b[0m \u001b[0mstr\u001b[0m\u001b[1;33m(\u001b[0m\u001b[1;33m[\u001b[0m\u001b[0mt_fips\u001b[0m\u001b[1;33m]\u001b[0m\u001b[1;33m)\u001b[0m\u001b[1;33m\u001b[0m\u001b[1;33m\u001b[0m\u001b[0m\n\u001b[0;32m      4\u001b[0m     \u001b[1;32melse\u001b[0m\u001b[1;33m:\u001b[0m\u001b[1;33m\u001b[0m\u001b[1;33m\u001b[0m\u001b[0m\n\u001b[1;32m----> 5\u001b[1;33m         \u001b[0moutcome\u001b[0m \u001b[1;33m=\u001b[0m \u001b[0mstr\u001b[0m\u001b[1;33m(\u001b[0m\u001b[0mrow\u001b[0m\u001b[1;33m[\u001b[0m\u001b[0mt_fips\u001b[0m\u001b[1;33m]\u001b[0m\u001b[1;33m)\u001b[0m\u001b[1;33m\u001b[0m\u001b[1;33m\u001b[0m\u001b[0m\n\u001b[0m\u001b[0;32m      6\u001b[0m     \u001b[1;32mreturn\u001b[0m \u001b[0moutcome\u001b[0m\u001b[1;33m\u001b[0m\u001b[1;33m\u001b[0m\u001b[0m\n",
      "\u001b[1;31mNameError\u001b[0m: name 't_fips' is not defined"
     ]
    }
   ],
   "source": [
    "wind_turbines['t_fips'] = wind_turbines['t_fips'].apply(fix_ints, axis=1)\n",
    "wind_turbines"
   ]
  },
  {
   "cell_type": "code",
   "execution_count": 19,
   "id": "097851b4-1912-4661-b016-1f8b65858479",
   "metadata": {},
   "outputs": [],
   "source": [
    "wind_turbines\n",
    "wind_turbines.to_csv('../cleaned_datasets/wind_turbines.csv')"
   ]
  },
  {
   "cell_type": "code",
   "execution_count": 17,
   "id": "fa30cb63-8d42-421a-9bd4-d51de0920d1e",
   "metadata": {},
   "outputs": [],
   "source": [
    "manu_data.reset_index(drop=True)\n",
    "manu_data.to_csv('../cleaned_datasets/manu_data.csv')"
   ]
  },
  {
   "cell_type": "code",
   "execution_count": 45,
   "id": "8165053b-5b69-4e9f-a60d-1bd42acad39e",
   "metadata": {
    "tags": []
   },
   "outputs": [
    {
     "data": {
      "text/html": [
       "<div>\n",
       "<style scoped>\n",
       "    .dataframe tbody tr th:only-of-type {\n",
       "        vertical-align: middle;\n",
       "    }\n",
       "\n",
       "    .dataframe tbody tr th {\n",
       "        vertical-align: top;\n",
       "    }\n",
       "\n",
       "    .dataframe thead th {\n",
       "        text-align: right;\n",
       "    }\n",
       "</style>\n",
       "<table border=\"1\" class=\"dataframe\">\n",
       "  <thead>\n",
       "    <tr style=\"text-align: right;\">\n",
       "      <th>4</th>\n",
       "      <th>plant_id</th>\n",
       "      <th>plant</th>\n",
       "      <th>op</th>\n",
       "      <th>op_id</th>\n",
       "      <th>plant_state</th>\n",
       "      <th>region</th>\n",
       "      <th>rpm</th>\n",
       "      <th>fuel_type</th>\n",
       "      <th>fuel_usage</th>\n",
       "      <th>net_gen</th>\n",
       "    </tr>\n",
       "  </thead>\n",
       "  <tbody>\n",
       "    <tr>\n",
       "      <th>0</th>\n",
       "      <td>1</td>\n",
       "      <td>Sand Point</td>\n",
       "      <td>TDX Sand Point Generating, LLC</td>\n",
       "      <td>63560</td>\n",
       "      <td>AK</td>\n",
       "      <td>PACN</td>\n",
       "      <td>WT</td>\n",
       "      <td>WND</td>\n",
       "      <td>8.924010e+02</td>\n",
       "      <td>347.000</td>\n",
       "    </tr>\n",
       "    <tr>\n",
       "      <th>1</th>\n",
       "      <td>2</td>\n",
       "      <td>Bankhead Dam</td>\n",
       "      <td>Alabama Power Co</td>\n",
       "      <td>195</td>\n",
       "      <td>AL</td>\n",
       "      <td>ESC</td>\n",
       "      <td>HY</td>\n",
       "      <td>WAT</td>\n",
       "      <td>3.578219e+05</td>\n",
       "      <td>139170.000</td>\n",
       "    </tr>\n",
       "    <tr>\n",
       "      <th>2</th>\n",
       "      <td>3</td>\n",
       "      <td>Barry</td>\n",
       "      <td>Alabama Power Co</td>\n",
       "      <td>195</td>\n",
       "      <td>AL</td>\n",
       "      <td>ESC</td>\n",
       "      <td>CA</td>\n",
       "      <td>NG</td>\n",
       "      <td>3.645376e+05</td>\n",
       "      <td>2633517.000</td>\n",
       "    </tr>\n",
       "    <tr>\n",
       "      <th>3</th>\n",
       "      <td>3</td>\n",
       "      <td>Barry</td>\n",
       "      <td>Alabama Power Co</td>\n",
       "      <td>195</td>\n",
       "      <td>AL</td>\n",
       "      <td>ESC</td>\n",
       "      <td>CT</td>\n",
       "      <td>NG</td>\n",
       "      <td>1.553475e+07</td>\n",
       "      <td>5084350.000</td>\n",
       "    </tr>\n",
       "    <tr>\n",
       "      <th>4</th>\n",
       "      <td>3</td>\n",
       "      <td>Barry</td>\n",
       "      <td>Alabama Power Co</td>\n",
       "      <td>195</td>\n",
       "      <td>AL</td>\n",
       "      <td>ESC</td>\n",
       "      <td>ST</td>\n",
       "      <td>BIT</td>\n",
       "      <td>7.675155e+06</td>\n",
       "      <td>2625834.500</td>\n",
       "    </tr>\n",
       "    <tr>\n",
       "      <th>...</th>\n",
       "      <td>...</td>\n",
       "      <td>...</td>\n",
       "      <td>...</td>\n",
       "      <td>...</td>\n",
       "      <td>...</td>\n",
       "      <td>...</td>\n",
       "      <td>...</td>\n",
       "      <td>...</td>\n",
       "      <td>...</td>\n",
       "      <td>...</td>\n",
       "    </tr>\n",
       "    <tr>\n",
       "      <th>15110</th>\n",
       "      <td>99999</td>\n",
       "      <td>State-Fuel Level Increment</td>\n",
       "      <td>State-Fuel Level Increment</td>\n",
       "      <td>99999</td>\n",
       "      <td>NV</td>\n",
       "      <td>MTN</td>\n",
       "      <td>WT</td>\n",
       "      <td>WND</td>\n",
       "      <td>8.179203e+04</td>\n",
       "      <td>31811.979</td>\n",
       "    </tr>\n",
       "    <tr>\n",
       "      <th>15111</th>\n",
       "      <td>99999</td>\n",
       "      <td>State-Fuel Level Increment</td>\n",
       "      <td>State-Fuel Level Increment</td>\n",
       "      <td>99999</td>\n",
       "      <td>MD</td>\n",
       "      <td>SAT</td>\n",
       "      <td>WT</td>\n",
       "      <td>WND</td>\n",
       "      <td>2.230329e+04</td>\n",
       "      <td>8674.526</td>\n",
       "    </tr>\n",
       "    <tr>\n",
       "      <th>15112</th>\n",
       "      <td>99999</td>\n",
       "      <td>State-Fuel Level Increment</td>\n",
       "      <td>State-Fuel Level Increment</td>\n",
       "      <td>99999</td>\n",
       "      <td>NH</td>\n",
       "      <td>NEW</td>\n",
       "      <td>WT</td>\n",
       "      <td>WND</td>\n",
       "      <td>2.469622e+04</td>\n",
       "      <td>9605.242</td>\n",
       "    </tr>\n",
       "    <tr>\n",
       "      <th>15113</th>\n",
       "      <td>99999</td>\n",
       "      <td>State-Fuel Level Increment</td>\n",
       "      <td>State-Fuel Level Increment</td>\n",
       "      <td>99999</td>\n",
       "      <td>MA</td>\n",
       "      <td>NEW</td>\n",
       "      <td>WT</td>\n",
       "      <td>WND</td>\n",
       "      <td>2.043585e+03</td>\n",
       "      <td>794.787</td>\n",
       "    </tr>\n",
       "    <tr>\n",
       "      <th>15114</th>\n",
       "      <td>99999</td>\n",
       "      <td>State-Fuel Level Increment</td>\n",
       "      <td>State-Fuel Level Increment</td>\n",
       "      <td>99999</td>\n",
       "      <td>ID</td>\n",
       "      <td>MTN</td>\n",
       "      <td>WT</td>\n",
       "      <td>WND</td>\n",
       "      <td>1.149835e+04</td>\n",
       "      <td>4472.169</td>\n",
       "    </tr>\n",
       "  </tbody>\n",
       "</table>\n",
       "<p>15115 rows × 10 columns</p>\n",
       "</div>"
      ],
      "text/plain": [
       "4     plant_id                       plant                              op  \\\n",
       "0            1                  Sand Point  TDX Sand Point Generating, LLC   \n",
       "1            2                Bankhead Dam                Alabama Power Co   \n",
       "2            3                       Barry                Alabama Power Co   \n",
       "3            3                       Barry                Alabama Power Co   \n",
       "4            3                       Barry                Alabama Power Co   \n",
       "...        ...                         ...                             ...   \n",
       "15110    99999  State-Fuel Level Increment      State-Fuel Level Increment   \n",
       "15111    99999  State-Fuel Level Increment      State-Fuel Level Increment   \n",
       "15112    99999  State-Fuel Level Increment      State-Fuel Level Increment   \n",
       "15113    99999  State-Fuel Level Increment      State-Fuel Level Increment   \n",
       "15114    99999  State-Fuel Level Increment      State-Fuel Level Increment   \n",
       "\n",
       "4      op_id plant_state region rpm fuel_type    fuel_usage      net_gen  \n",
       "0      63560          AK   PACN  WT       WND  8.924010e+02      347.000  \n",
       "1        195          AL    ESC  HY       WAT  3.578219e+05   139170.000  \n",
       "2        195          AL    ESC  CA        NG  3.645376e+05  2633517.000  \n",
       "3        195          AL    ESC  CT        NG  1.553475e+07  5084350.000  \n",
       "4        195          AL    ESC  ST       BIT  7.675155e+06  2625834.500  \n",
       "...      ...         ...    ...  ..       ...           ...          ...  \n",
       "15110  99999          NV    MTN  WT       WND  8.179203e+04    31811.979  \n",
       "15111  99999          MD    SAT  WT       WND  2.230329e+04     8674.526  \n",
       "15112  99999          NH    NEW  WT       WND  2.469622e+04     9605.242  \n",
       "15113  99999          MA    NEW  WT       WND  2.043585e+03      794.787  \n",
       "15114  99999          ID    MTN  WT       WND  1.149835e+04     4472.169  \n",
       "\n",
       "[15115 rows x 10 columns]"
      ]
     },
     "execution_count": 45,
     "metadata": {},
     "output_type": "execute_result"
    }
   ],
   "source": [
    "total_energy = pd.read_excel('../original_datasets/EIA923_Schedules_2_3_4_5_M_12_2020_Final_Revision.xlsx', 0)\n",
    "\n",
    "total_energy = total_energy.tail(int(str(total_energy[total_energy['U.S. Department of Energy, The Energy Information Administration (EIA)'] == 'Plant Id'].index).split(']')[0].split('[')[-1])*-1)\n",
    "total_energy.columns = total_energy.iloc[0]\n",
    "total_energy = total_energy[1:].reset_index(drop=True)\n",
    "total_energy.columns = total_energy.columns.str.replace('\\n', ' ').str.lower().str.replace(' ', '_')\n",
    "\n",
    "total_energy = total_energy[['plant_id', 'plant_name', 'operator_name', 'operator_id', 'plant_state', 'census_region', 'reported_prime_mover', 'reported_fuel_type_code', \n",
    "                             'total_fuel_consumption_mmbtu', 'net_generation_(megawatthours)']]\n",
    "\n",
    "total_energy.rename(columns={'operator_name':'op', 'operator_id':'op_id', 'plant_name':'plant', 'census_region':'region', 'reported_prime_mover':'rpm', \n",
    "                               'reported_fuel_type_code':'fuel_type', 'net_generation_(megawatthours)':'net_gen', 'total_fuel_consumption_mmbtu':'fuel_usage'}, inplace=True)\n",
    "\n",
    "for col in total_energy.iloc[:, 8:]:\n",
    "    total_energy[col] = pd.to_numeric(total_energy[col])\n",
    "    total_energy[col] = total_energy[col].fillna(0)\n",
    "\n",
    "total_energy.loc[(total_energy['net_gen']!=0)]\n",
    "\n",
    "total_energy['fuel_usage'] = round(total_energy['fuel_usage'] * 0.29307107017222, 3)\n",
    "    \n",
    "total_energy.to_csv('../cleaned_datasets/total_energy.csv')\n",
    "total_energy"
   ]
  },
  {
   "cell_type": "code",
   "execution_count": null,
   "id": "a8d3da1e-1416-42c6-ab82-76c647adeda1",
   "metadata": {},
   "outputs": [],
   "source": [
    "print(total_energy['fuel_usage'].mean())\n",
    "print(total_energy['net_gen'].mean())"
   ]
  },
  {
   "cell_type": "code",
   "execution_count": null,
   "id": "37fcafdd-9824-4db5-965d-2bbff0649cf4",
   "metadata": {
    "tags": []
   },
   "outputs": [],
   "source": [
    "total_energy[total_energy['fuel_usage'] <= total_energy['net_gen']]"
   ]
  },
  {
   "cell_type": "code",
   "execution_count": null,
   "id": "85e9758e-ef03-44cf-a71e-3a9f055723ed",
   "metadata": {},
   "outputs": [],
   "source": []
  }
 ],
 "metadata": {
  "kernelspec": {
   "display_name": "Python 3 (ipykernel)",
   "language": "python",
   "name": "python3"
  },
  "language_info": {
   "codemirror_mode": {
    "name": "ipython",
    "version": 3
   },
   "file_extension": ".py",
   "mimetype": "text/x-python",
   "name": "python",
   "nbconvert_exporter": "python",
   "pygments_lexer": "ipython3",
   "version": "3.9.13"
  }
 },
 "nbformat": 4,
 "nbformat_minor": 5
}
